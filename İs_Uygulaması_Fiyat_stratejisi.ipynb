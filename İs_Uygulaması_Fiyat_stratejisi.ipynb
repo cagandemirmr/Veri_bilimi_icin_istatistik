{
  "nbformat": 4,
  "nbformat_minor": 0,
  "metadata": {
    "colab": {
      "provenance": []
    },
    "kernelspec": {
      "name": "python3",
      "display_name": "Python 3"
    },
    "language_info": {
      "name": "python"
    }
  },
  "cells": [
    {
      "cell_type": "code",
      "execution_count": 1,
      "metadata": {
        "id": "QoTSlL_dO51F"
      },
      "outputs": [],
      "source": [
        "import numpy as np\n",
        "fiyatlar= np.random.randint(10,110,1000)"
      ]
    },
    {
      "cell_type": "code",
      "source": [
        "fiyatlar.mean()"
      ],
      "metadata": {
        "colab": {
          "base_uri": "https://localhost:8080/"
        },
        "id": "mzo2SIbFPzYa",
        "outputId": "c509a9ef-b16d-4891-c61e-3509f420e3ad"
      },
      "execution_count": 2,
      "outputs": [
        {
          "output_type": "execute_result",
          "data": {
            "text/plain": [
              "59.603"
            ]
          },
          "metadata": {},
          "execution_count": 2
        }
      ]
    },
    {
      "cell_type": "code",
      "source": [
        "import statsmodels.stats.api as sms"
      ],
      "metadata": {
        "id": "Eu8pVQz9P0ya"
      },
      "execution_count": 3,
      "outputs": []
    },
    {
      "cell_type": "code",
      "source": [
        "#Bu kodla birlikte nasıl bir işlem karar alabileceğimizi buluruz.\n",
        "sms.DescrStatsW(fiyatlar).tconfint_mean()"
      ],
      "metadata": {
        "colab": {
          "base_uri": "https://localhost:8080/"
        },
        "id": "O8qjnjlbQPL6",
        "outputId": "4d63c56d-ecf7-4779-d7ca-293b4ff6f345"
      },
      "execution_count": 4,
      "outputs": [
        {
          "output_type": "execute_result",
          "data": {
            "text/plain": [
              "(57.82678644739378, 61.379213552606224)"
            ]
          },
          "metadata": {},
          "execution_count": 4
        }
      ]
    }
  ]
}