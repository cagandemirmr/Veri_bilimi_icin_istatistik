{
  "nbformat": 4,
  "nbformat_minor": 0,
  "metadata": {
    "colab": {
      "provenance": []
    },
    "kernelspec": {
      "name": "python3",
      "display_name": "Python 3"
    },
    "language_info": {
      "name": "python"
    }
  },
  "cells": [
    {
      "cell_type": "code",
      "execution_count": 1,
      "metadata": {
        "id": "cZGje9vmXDik"
      },
      "outputs": [],
      "source": [
        "from scipy.stats import binom"
      ]
    },
    {
      "cell_type": "code",
      "source": [
        "p=0.01\n",
        "n=100\n",
        "rv=binom(n,p)\n",
        "print(rv.pmf(1))\n",
        "print(rv.pmf(5))\n",
        "print(rv.pmf(10))"
      ],
      "metadata": {
        "colab": {
          "base_uri": "https://localhost:8080/"
        },
        "id": "hfP9qUpbazF1",
        "outputId": "a3022fda-0731-40e9-ba0e-ef4912932f8d"
      },
      "execution_count": 2,
      "outputs": [
        {
          "output_type": "stream",
          "name": "stdout",
          "text": [
            "0.36972963764972666\n",
            "0.002897787123761478\n",
            "7.006035693977194e-08\n"
          ]
        }
      ]
    }
  ]
}