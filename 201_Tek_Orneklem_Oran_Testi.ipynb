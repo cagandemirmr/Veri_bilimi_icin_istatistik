{
  "nbformat": 4,
  "nbformat_minor": 0,
  "metadata": {
    "colab": {
      "provenance": []
    },
    "kernelspec": {
      "name": "python3",
      "display_name": "Python 3"
    },
    "language_info": {
      "name": "python"
    }
  },
  "cells": [
    {
      "cell_type": "markdown",
      "source": [
        "# Tek Örneklem Oran Testi"
      ],
      "metadata": {
        "id": "pHN7BwsQMPz9"
      }
    },
    {
      "cell_type": "code",
      "execution_count": 2,
      "metadata": {
        "id": "DMY_yLTcMLJ6"
      },
      "outputs": [],
      "source": [
        "from statsmodels.stats.proportion import proportions_ztest"
      ]
    },
    {
      "cell_type": "code",
      "source": [
        "count = 40\n",
        "nobs = 500\n",
        "value = 0.125"
      ],
      "metadata": {
        "id": "DeYQxfJIMmdw"
      },
      "execution_count": 4,
      "outputs": []
    },
    {
      "cell_type": "code",
      "source": [
        "proportions_ztest(count,nobs,value)"
      ],
      "metadata": {
        "colab": {
          "base_uri": "https://localhost:8080/"
        },
        "id": "7Yx-FYVMM11H",
        "outputId": "118afcfb-74c8-4f10-bbde-e7b2cf585232"
      },
      "execution_count": 5,
      "outputs": [
        {
          "output_type": "execute_result",
          "data": {
            "text/plain": [
              "(-3.7090151628513017, 0.0002080669689845979)"
            ]
          },
          "metadata": {},
          "execution_count": 5
        }
      ]
    },
    {
      "cell_type": "markdown",
      "source": [
        "P value 0.05 ten küçük olduğu için H0' ı redderiz yani değer 0.125 ten farklıdır."
      ],
      "metadata": {
        "id": "zEByOmqzNcLg"
      }
    }
  ]
}