{
  "nbformat": 4,
  "nbformat_minor": 0,
  "metadata": {
    "colab": {
      "provenance": []
    },
    "kernelspec": {
      "name": "python3",
      "display_name": "Python 3"
    },
    "language_info": {
      "name": "python"
    }
  },
  "cells": [
    {
      "cell_type": "markdown",
      "source": [
        "# İki Örneklem Oran Testi"
      ],
      "metadata": {
        "id": "hp8FH-Xuv9TK"
      }
    },
    {
      "cell_type": "code",
      "execution_count": 1,
      "metadata": {
        "id": "Ncq0ueDAt_jd"
      },
      "outputs": [],
      "source": [
        "from statsmodels.stats.proportion import proportions_ztest"
      ]
    },
    {
      "cell_type": "code",
      "source": [
        "import numpy as np"
      ],
      "metadata": {
        "id": "5GTxcOxhuNx9"
      },
      "execution_count": 2,
      "outputs": []
    },
    {
      "cell_type": "code",
      "source": [
        "basari_sayisi=np.array([300,250])\n",
        "gozlem_sayisi=np.array([1000,1100])"
      ],
      "metadata": {
        "id": "XKWwVWrDuXre"
      },
      "execution_count": 3,
      "outputs": []
    },
    {
      "cell_type": "code",
      "source": [
        "proportions_ztest(count=basari_sayisi,nobs=gozlem_sayisi)"
      ],
      "metadata": {
        "colab": {
          "base_uri": "https://localhost:8080/"
        },
        "id": "pTjW1tmVu3tP",
        "outputId": "d3b53cc0-8022-4d88-f4a5-d234c2f320f7"
      },
      "execution_count": 5,
      "outputs": [
        {
          "output_type": "execute_result",
          "data": {
            "text/plain": [
              "(3.7857863233209255, 0.0001532232957772221)"
            ]
          },
          "metadata": {},
          "execution_count": 5
        }
      ]
    },
    {
      "cell_type": "code",
      "source": [],
      "metadata": {
        "id": "3jmd0i4HvHd4"
      },
      "execution_count": null,
      "outputs": []
    }
  ]
}