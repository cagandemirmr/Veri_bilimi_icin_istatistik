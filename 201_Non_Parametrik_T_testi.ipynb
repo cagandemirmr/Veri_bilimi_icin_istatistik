{
  "nbformat": 4,
  "nbformat_minor": 0,
  "metadata": {
    "colab": {
      "provenance": []
    },
    "kernelspec": {
      "name": "python3",
      "display_name": "Python 3"
    },
    "language_info": {
      "name": "python"
    }
  },
  "cells": [
    {
      "cell_type": "markdown",
      "source": [
        "## Non Parametrik Tek Örneklem Testi"
      ],
      "metadata": {
        "id": "fwcgf4OcFRhG"
      }
    },
    {
      "cell_type": "code",
      "source": [
        "import numpy as np\n",
        "olcumler = np.array([17,160,234,149,145,107,197,75,201,225,211,219,157,145,127,244,163,114,145,65,112,185,202,146,203,224,203,114,188,156,187,154,177,95,165,50,110,216,138,151,166,135,155,84,251,173,131,207,121,120])"
      ],
      "metadata": {
        "id": "9vv7Zs7zGOZv"
      },
      "execution_count": 2,
      "outputs": []
    },
    {
      "cell_type": "code",
      "execution_count": 1,
      "metadata": {
        "id": "5vN48pBaDVQ3"
      },
      "outputs": [],
      "source": [
        "from statsmodels.stats.descriptivestats import sign_test"
      ]
    },
    {
      "cell_type": "code",
      "source": [
        "sign_test(olcumler,170)"
      ],
      "metadata": {
        "colab": {
          "base_uri": "https://localhost:8080/"
        },
        "id": "YsWARH1DFkFv",
        "outputId": "5e937374-3978-4854-87ce-50e468e97a7c"
      },
      "execution_count": 3,
      "outputs": [
        {
          "output_type": "execute_result",
          "data": {
            "text/plain": [
              "(-6.0, 0.11892045255943628)"
            ]
          },
          "metadata": {},
          "execution_count": 3
        }
      ]
    },
    {
      "cell_type": "code",
      "source": [],
      "metadata": {
        "id": "AWR4rfmHGR93"
      },
      "execution_count": null,
      "outputs": []
    }
  ]
}