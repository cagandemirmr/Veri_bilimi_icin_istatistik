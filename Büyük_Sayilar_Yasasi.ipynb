{
  "nbformat": 4,
  "nbformat_minor": 0,
  "metadata": {
    "colab": {
      "provenance": []
    },
    "kernelspec": {
      "name": "python3",
      "display_name": "Python 3"
    },
    "language_info": {
      "name": "python"
    }
  },
  "cells": [
    {
      "cell_type": "code",
      "execution_count": 4,
      "metadata": {
        "colab": {
          "base_uri": "https://localhost:8080/"
        },
        "id": "2a_b1rjl5K23",
        "outputId": "403fff09-1d3e-4816-b241-2b159ff55873"
      },
      "outputs": [
        {
          "output_type": "stream",
          "name": "stdout",
          "text": [
            "Atış sayısı: 2 --- Yazı olasılığı: 50.00\n",
            "Atış sayısı: 4 --- Yazı olasılığı: 0.00\n",
            "Atış sayısı: 8 --- Yazı olasılığı: 62.50\n",
            "Atış sayısı: 16 --- Yazı olasılığı: 43.75\n",
            "Atış sayısı: 32 --- Yazı olasılığı: 46.88\n",
            "Atış sayısı: 64 --- Yazı olasılığı: 56.25\n",
            "Atış sayısı: 128 --- Yazı olasılığı: 50.78\n",
            "Atış sayısı: 256 --- Yazı olasılığı: 52.73\n",
            "Atış sayısı: 512 --- Yazı olasılığı: 52.93\n",
            "Atış sayısı: 1024 --- Yazı olasılığı: 50.20\n",
            "Atış sayısı: 2048 --- Yazı olasılığı: 48.58\n",
            "Atış sayısı: 4096 --- Yazı olasılığı: 49.49\n",
            "Atış sayısı: 8192 --- Yazı olasılığı: 49.58\n",
            "Atış sayısı: 16384 --- Yazı olasılığı: 49.96\n",
            "Atış sayısı: 32768 --- Yazı olasılığı: 50.00\n",
            "Atış sayısı: 65536 --- Yazı olasılığı: 49.68\n",
            "Atış sayısı: 131072 --- Yazı olasılığı: 49.97\n",
            "Atış sayısı: 262144 --- Yazı olasılığı: 50.13\n",
            "Atış sayısı: 524288 --- Yazı olasılığı: 50.01\n",
            "Atış sayısı: 1048576 --- Yazı olasılığı: 50.09\n"
          ]
        }
      ],
      "source": [
        "import numpy as np\n",
        "rng=np.random.RandomState(123)\n",
        "for i in range(1,21):\n",
        "  deney_sayisi=2**i\n",
        "  yazi_turalar=rng.randint(0,2,size=deney_sayisi)\n",
        "  yazi_olasiliklari=np.mean(yazi_turalar)\n",
        "  print(\"Atış sayısı:\",deney_sayisi,\"---\",\"Yazı olasılığı: %.2f\" %(yazi_olasiliklari*100))"
      ]
    }
  ]
}