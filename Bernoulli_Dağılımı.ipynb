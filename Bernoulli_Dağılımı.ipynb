{
  "nbformat": 4,
  "nbformat_minor": 0,
  "metadata": {
    "colab": {
      "provenance": []
    },
    "kernelspec": {
      "name": "python3",
      "display_name": "Python 3"
    },
    "language_info": {
      "name": "python"
    }
  },
  "cells": [
    {
      "cell_type": "markdown",
      "source": [
        "## Bernoulli Dağılımı\n",
        "\n"
      ],
      "metadata": {
        "id": "Uy75YWFxp2GU"
      }
    },
    {
      "cell_type": "code",
      "execution_count": 1,
      "metadata": {
        "id": "Gpe_Hgj3prwE"
      },
      "outputs": [],
      "source": [
        "from scipy.stats import bernoulli"
      ]
    },
    {
      "cell_type": "code",
      "source": [
        "p=0.6"
      ],
      "metadata": {
        "id": "qCX8v9wy0vXw"
      },
      "execution_count": 2,
      "outputs": []
    },
    {
      "cell_type": "code",
      "source": [
        "rv=bernoulli(p)"
      ],
      "metadata": {
        "id": "ePJ10k-X0yIf"
      },
      "execution_count": 3,
      "outputs": []
    },
    {
      "cell_type": "code",
      "source": [
        "#Propability mass function=pmf\n",
        "rv.pmf(k=1)"
      ],
      "metadata": {
        "colab": {
          "base_uri": "https://localhost:8080/"
        },
        "id": "WzzP_B1503Bo",
        "outputId": "f792c310-9034-4316-d212-5724018be2e3"
      },
      "execution_count": 7,
      "outputs": [
        {
          "output_type": "execute_result",
          "data": {
            "text/plain": [
              "0.6"
            ]
          },
          "metadata": {},
          "execution_count": 7
        }
      ]
    }
  ]
}