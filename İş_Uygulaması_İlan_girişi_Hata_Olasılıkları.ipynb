{
  "nbformat": 4,
  "nbformat_minor": 0,
  "metadata": {
    "colab": {
      "provenance": []
    },
    "kernelspec": {
      "name": "python3",
      "display_name": "Python 3"
    },
    "language_info": {
      "name": "python"
    }
  },
  "cells": [
    {
      "cell_type": "code",
      "execution_count": 1,
      "metadata": {
        "id": "vuc5XeCGAQlb"
      },
      "outputs": [],
      "source": [
        "from scipy.stats import poisson\n"
      ]
    },
    {
      "cell_type": "code",
      "source": [
        "lambda_ = 0.1"
      ],
      "metadata": {
        "id": "taZ1K63EBOiy"
      },
      "execution_count": 2,
      "outputs": []
    },
    {
      "cell_type": "code",
      "source": [
        "rv=poisson(mu=lambda_)"
      ],
      "metadata": {
        "id": "vjxpS3H2BJr6"
      },
      "execution_count": 3,
      "outputs": []
    },
    {
      "cell_type": "code",
      "source": [
        "print(rv.pmf(k=0))"
      ],
      "metadata": {
        "colab": {
          "base_uri": "https://localhost:8080/"
        },
        "id": "M2KdgL51BSxk",
        "outputId": "3d9cc939-b2e3-44cd-aa97-9e6c89ea4cb7"
      },
      "execution_count": 4,
      "outputs": [
        {
          "output_type": "stream",
          "name": "stdout",
          "text": [
            "0.9048374180359595\n"
          ]
        }
      ]
    },
    {
      "cell_type": "code",
      "source": [
        "print(rv.pmf(k=3))"
      ],
      "metadata": {
        "colab": {
          "base_uri": "https://localhost:8080/"
        },
        "id": "6V1Sg_9OBact",
        "outputId": "2ab1a5ef-970a-44cf-cc2c-c887e553309f"
      },
      "execution_count": 5,
      "outputs": [
        {
          "output_type": "stream",
          "name": "stdout",
          "text": [
            "0.00015080623633932676\n"
          ]
        }
      ]
    },
    {
      "cell_type": "code",
      "source": [
        "print(rv.pmf(k=5))"
      ],
      "metadata": {
        "colab": {
          "base_uri": "https://localhost:8080/"
        },
        "id": "dpoNHF1CBdTA",
        "outputId": "5b740885-bd83-46eb-c79e-9f2d643d4fa7"
      },
      "execution_count": 6,
      "outputs": [
        {
          "output_type": "stream",
          "name": "stdout",
          "text": [
            "7.54031181696634e-08\n"
          ]
        }
      ]
    }
  ]
}