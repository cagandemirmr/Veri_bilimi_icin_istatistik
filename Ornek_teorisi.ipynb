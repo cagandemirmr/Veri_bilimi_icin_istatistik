{
  "nbformat": 4,
  "nbformat_minor": 0,
  "metadata": {
    "colab": {
      "provenance": []
    },
    "kernelspec": {
      "name": "python3",
      "display_name": "Python 3"
    },
    "language_info": {
      "name": "python"
    }
  },
  "cells": [
    {
      "cell_type": "markdown",
      "source": [
        "\n",
        "\n",
        "---\n",
        "# Veri Bilimi İçin İstatistik"
      ],
      "metadata": {
        "id": "w9Vw9t3jfTyt"
      }
    },
    {
      "cell_type": "markdown",
      "source": [
        "## Örnek Teorisi"
      ],
      "metadata": {
        "id": "-dg_g0TvgK8I"
      }
    },
    {
      "cell_type": "code",
      "execution_count": null,
      "metadata": {
        "id": "HiWI2mCUfSbQ"
      },
      "outputs": [],
      "source": [
        "import numpy as np"
      ]
    },
    {
      "cell_type": "code",
      "source": [
        "populasyon = np.random.randint(0,80,1000)"
      ],
      "metadata": {
        "id": "tFGoGbbSfkKX"
      },
      "execution_count": null,
      "outputs": []
    },
    {
      "cell_type": "code",
      "source": [
        "populasyon[0:10]"
      ],
      "metadata": {
        "colab": {
          "base_uri": "https://localhost:8080/"
        },
        "id": "xBVQs8_sf0cD",
        "outputId": "27f0e4af-b7dc-49cd-d513-38a9c1801e58"
      },
      "execution_count": null,
      "outputs": [
        {
          "output_type": "execute_result",
          "data": {
            "text/plain": [
              "array([ 3, 18, 78, 27, 27,  9, 54, 19, 55, 18])"
            ]
          },
          "metadata": {},
          "execution_count": 3
        }
      ]
    },
    {
      "cell_type": "code",
      "source": [
        "#Örneklem Çekimi\n",
        "np.random.seed(115)\n",
        "#Bunu yaparak sonucun her zaman farklı olmasının önüne geçilmiş olunur."
      ],
      "metadata": {
        "id": "2nOd05-ugEDZ"
      },
      "execution_count": null,
      "outputs": []
    },
    {
      "cell_type": "code",
      "source": [
        "orneklem = np.random.choice(a=populasyon,size=100)"
      ],
      "metadata": {
        "id": "M-OuMDL5g-e3"
      },
      "execution_count": null,
      "outputs": []
    },
    {
      "cell_type": "code",
      "source": [
        "orneklem[0:10]"
      ],
      "metadata": {
        "colab": {
          "base_uri": "https://localhost:8080/"
        },
        "id": "8g06VnOYhKwg",
        "outputId": "961f1205-513a-4f7a-8cc5-df2b5ce81031"
      },
      "execution_count": null,
      "outputs": [
        {
          "output_type": "execute_result",
          "data": {
            "text/plain": [
              "array([73, 51, 67, 28, 62, 77, 39, 76,  6, 43])"
            ]
          },
          "metadata": {},
          "execution_count": 8
        }
      ]
    },
    {
      "cell_type": "code",
      "source": [
        "orneklem.mean()"
      ],
      "metadata": {
        "colab": {
          "base_uri": "https://localhost:8080/"
        },
        "id": "JkUYi414hY9B",
        "outputId": "aeb1446f-9eb0-4dc3-85f7-cf87a323559e"
      },
      "execution_count": null,
      "outputs": [
        {
          "output_type": "execute_result",
          "data": {
            "text/plain": [
              "42.87"
            ]
          },
          "metadata": {},
          "execution_count": 9
        }
      ]
    },
    {
      "cell_type": "code",
      "source": [
        "populasyon.mean()"
      ],
      "metadata": {
        "colab": {
          "base_uri": "https://localhost:8080/"
        },
        "id": "xfqUT5NYhcA-",
        "outputId": "6b18a13c-8a26-4331-8cf3-1ee9614bf5ff"
      },
      "execution_count": null,
      "outputs": [
        {
          "output_type": "execute_result",
          "data": {
            "text/plain": [
              "40.431"
            ]
          },
          "metadata": {},
          "execution_count": 10
        }
      ]
    },
    {
      "cell_type": "code",
      "source": [
        "np.random.seed(10)"
      ],
      "metadata": {
        "id": "RFV0bCJ9he8j"
      },
      "execution_count": null,
      "outputs": []
    },
    {
      "cell_type": "code",
      "source": [
        "orneklem1 = np.random.choice(a=populasyon,size=100)\n",
        "orneklem2 = np.random.choice(a=populasyon,size=100)\n",
        "orneklem3 = np.random.choice(a=populasyon,size=100)\n",
        "orneklem4 = np.random.choice(a=populasyon,size=100)\n",
        "orneklem5 = np.random.choice(a=populasyon,size=100)\n",
        "orneklem6 = np.random.choice(a=populasyon,size=100)\n",
        "orneklem7 = np.random.choice(a=populasyon,size=100)\n",
        "orneklem8 = np.random.choice(a=populasyon,size=100)\n",
        "orneklem9 = np.random.choice(a=populasyon,size=100)\n",
        "orneklem10 = np.random.choice(a=populasyon,size=100)"
      ],
      "metadata": {
        "id": "bGd9fYmqivnQ"
      },
      "execution_count": null,
      "outputs": []
    },
    {
      "cell_type": "code",
      "source": [
        "(orneklem1.mean()+ orneklem2.mean() + orneklem3.mean()+orneklem4.mean() + orneklem5.mean() + orneklem6.mean() + orneklem7.mean() + orneklem8.mean() + orneklem9.mean() + orneklem10.mean())/10"
      ],
      "metadata": {
        "colab": {
          "base_uri": "https://localhost:8080/"
        },
        "id": "kZLEBCUPjHRM",
        "outputId": "fd0d13ce-2d5e-4b51-c93e-f91a7fffee4c"
      },
      "execution_count": null,
      "outputs": [
        {
          "output_type": "execute_result",
          "data": {
            "text/plain": [
              "42.172999999999995"
            ]
          },
          "metadata": {},
          "execution_count": 13
        }
      ]
    }
  ]
}